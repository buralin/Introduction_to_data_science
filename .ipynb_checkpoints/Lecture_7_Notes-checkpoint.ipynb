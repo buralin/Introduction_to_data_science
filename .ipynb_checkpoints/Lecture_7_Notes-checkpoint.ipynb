{
 "cells": [
  {
   "cell_type": "code",
   "execution_count": 1,
   "metadata": {
    "collapsed": true
   },
   "outputs": [],
   "source": [
    "import pandas as pd\n",
    "import numpy as np"
   ]
  },
  {
   "cell_type": "code",
   "execution_count": 2,
   "metadata": {
    "collapsed": true
   },
   "outputs": [],
   "source": [
    "import matplotlib.pyplot as plt"
   ]
  },
  {
   "cell_type": "code",
   "execution_count": 3,
   "metadata": {
    "collapsed": true
   },
   "outputs": [],
   "source": [
    "a = pd.Series([1,3,5,31,31])"
   ]
  },
  {
   "cell_type": "code",
   "execution_count": 4,
   "metadata": {},
   "outputs": [
    {
     "data": {
      "text/plain": [
       "0     1\n",
       "1     3\n",
       "2     5\n",
       "3    31\n",
       "4    31\n",
       "dtype: int64"
      ]
     },
     "execution_count": 4,
     "metadata": {},
     "output_type": "execute_result"
    }
   ],
   "source": [
    "a"
   ]
  },
  {
   "cell_type": "markdown",
   "metadata": {},
   "source": [
    "Pandas / Data science tutorial\n",
    "\n",
    "http://tomaugspurger.github.io/modern-5-tidy.html"
   ]
  },
  {
   "cell_type": "code",
   "execution_count": 5,
   "metadata": {
    "collapsed": true
   },
   "outputs": [],
   "source": [
    "import os\n",
    "import numpy as np\n",
    "import pandas as pd\n",
    "import seaborn as sns\n",
    "import matplotlib.pyplot as plt\n",
    "\n",
    "if int(os.environ.get(\"MODERN_PANDAS_EPUB\", 0)):\n",
    "    import prep # noqa\n",
    "\n",
    "pd.options.display.max_rows = 10\n",
    "sns.set(style='ticks', context='talk')"
   ]
  },
  {
   "cell_type": "code",
   "execution_count": 8,
   "metadata": {},
   "outputs": [
    {
     "data": {
      "text/html": [
       "<div>\n",
       "<style>\n",
       "    .dataframe thead tr:only-child th {\n",
       "        text-align: right;\n",
       "    }\n",
       "\n",
       "    .dataframe thead th {\n",
       "        text-align: left;\n",
       "    }\n",
       "\n",
       "    .dataframe tbody tr th {\n",
       "        vertical-align: top;\n",
       "    }\n",
       "</style>\n",
       "<table border=\"1\" class=\"dataframe\">\n",
       "  <thead>\n",
       "    <tr style=\"text-align: right;\">\n",
       "      <th></th>\n",
       "      <th>Unnamed: 0</th>\n",
       "      <th>Date</th>\n",
       "      <th>Start (ET)</th>\n",
       "      <th>Visitor/Neutral</th>\n",
       "      <th>PTS</th>\n",
       "      <th>Home/Neutral</th>\n",
       "      <th>PTS.1</th>\n",
       "      <th></th>\n",
       "      <th>.1</th>\n",
       "      <th>Notes</th>\n",
       "    </tr>\n",
       "  </thead>\n",
       "  <tbody>\n",
       "    <tr>\n",
       "      <th>0</th>\n",
       "      <td>0</td>\n",
       "      <td>Tue, Oct 27, 2015</td>\n",
       "      <td>8:00 pm</td>\n",
       "      <td>Detroit Pistons</td>\n",
       "      <td>106</td>\n",
       "      <td>Atlanta Hawks</td>\n",
       "      <td>94</td>\n",
       "      <td>Box Score</td>\n",
       "      <td>NaN</td>\n",
       "      <td>NaN</td>\n",
       "    </tr>\n",
       "    <tr>\n",
       "      <th>1</th>\n",
       "      <td>1</td>\n",
       "      <td>Tue, Oct 27, 2015</td>\n",
       "      <td>8:00 pm</td>\n",
       "      <td>Cleveland Cavaliers</td>\n",
       "      <td>95</td>\n",
       "      <td>Chicago Bulls</td>\n",
       "      <td>97</td>\n",
       "      <td>Box Score</td>\n",
       "      <td>NaN</td>\n",
       "      <td>NaN</td>\n",
       "    </tr>\n",
       "    <tr>\n",
       "      <th>2</th>\n",
       "      <td>2</td>\n",
       "      <td>Tue, Oct 27, 2015</td>\n",
       "      <td>10:30 pm</td>\n",
       "      <td>New Orleans Pelicans</td>\n",
       "      <td>95</td>\n",
       "      <td>Golden State Warriors</td>\n",
       "      <td>111</td>\n",
       "      <td>Box Score</td>\n",
       "      <td>NaN</td>\n",
       "      <td>NaN</td>\n",
       "    </tr>\n",
       "    <tr>\n",
       "      <th>3</th>\n",
       "      <td>3</td>\n",
       "      <td>Wed, Oct 28, 2015</td>\n",
       "      <td>7:30 pm</td>\n",
       "      <td>Philadelphia 76ers</td>\n",
       "      <td>95</td>\n",
       "      <td>Boston Celtics</td>\n",
       "      <td>112</td>\n",
       "      <td>Box Score</td>\n",
       "      <td>NaN</td>\n",
       "      <td>NaN</td>\n",
       "    </tr>\n",
       "    <tr>\n",
       "      <th>4</th>\n",
       "      <td>4</td>\n",
       "      <td>Wed, Oct 28, 2015</td>\n",
       "      <td>7:30 pm</td>\n",
       "      <td>Chicago Bulls</td>\n",
       "      <td>115</td>\n",
       "      <td>Brooklyn Nets</td>\n",
       "      <td>100</td>\n",
       "      <td>Box Score</td>\n",
       "      <td>NaN</td>\n",
       "      <td>NaN</td>\n",
       "    </tr>\n",
       "  </tbody>\n",
       "</table>\n",
       "</div>"
      ],
      "text/plain": [
       "   Unnamed: 0               Date Start (ET)       Visitor/Neutral  PTS  \\\n",
       "0           0  Tue, Oct 27, 2015    8:00 pm       Detroit Pistons  106   \n",
       "1           1  Tue, Oct 27, 2015    8:00 pm   Cleveland Cavaliers   95   \n",
       "2           2  Tue, Oct 27, 2015   10:30 pm  New Orleans Pelicans   95   \n",
       "3           3  Wed, Oct 28, 2015    7:30 pm    Philadelphia 76ers   95   \n",
       "4           4  Wed, Oct 28, 2015    7:30 pm         Chicago Bulls  115   \n",
       "\n",
       "            Home/Neutral  PTS.1              .1  Notes  \n",
       "0          Atlanta Hawks     94  Box Score  NaN    NaN  \n",
       "1          Chicago Bulls     97  Box Score  NaN    NaN  \n",
       "2  Golden State Warriors    111  Box Score  NaN    NaN  \n",
       "3         Boston Celtics    112  Box Score  NaN    NaN  \n",
       "4          Brooklyn Nets    100  Box Score  NaN    NaN  "
      ]
     },
     "execution_count": 8,
     "metadata": {},
     "output_type": "execute_result"
    }
   ],
   "source": [
    "fp = 'data/nba.csv'\n",
    "\n",
    "if not os.path.exists(fp):\n",
    "    tables = pd.read_html(\"http://www.basketball-reference.com/leagues/NBA_2016_games.html\")\n",
    "    games = tables[0]\n",
    "    games.to_csv(fp)\n",
    "else:\n",
    "    games = pd.read_csv(fp)\n",
    "games.head()"
   ]
  },
  {
   "cell_type": "code",
   "execution_count": null,
   "metadata": {
    "collapsed": true
   },
   "outputs": [],
   "source": []
  }
 ],
 "metadata": {
  "kernelspec": {
   "display_name": "Python 3",
   "language": "python",
   "name": "python3"
  },
  "language_info": {
   "codemirror_mode": {
    "name": "ipython",
    "version": 3
   },
   "file_extension": ".py",
   "mimetype": "text/x-python",
   "name": "python",
   "nbconvert_exporter": "python",
   "pygments_lexer": "ipython3",
   "version": "3.6.1"
  }
 },
 "nbformat": 4,
 "nbformat_minor": 2
}
