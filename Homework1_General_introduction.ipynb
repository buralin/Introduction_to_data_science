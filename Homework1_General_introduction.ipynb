{
 "cells": [
  {
   "cell_type": "markdown",
   "metadata": {},
   "source": [
    "# Homework 1\n",
    "# Introduction:\n",
    "## Tutorial: Overview over basic python methods:\n",
    "\n",
    "The following tutorial is to cover the basic operations in python. The following syntax is based on python 3."
   ]
  },
  {
   "cell_type": "markdown",
   "metadata": {},
   "source": [
    "# Table of content:\n",
    "- [Strings](#id-section1)\n",
    "- [Lists](#id-section2)\n",
    "- [Dictionary](#id-section3)"
   ]
  },
  {
   "cell_type": "markdown",
   "metadata": {},
   "source": [
    "<div id='id-section1'/>\n",
    "## Strings:\n",
    "\n",
    "A string can be understood as a sequence of characters. In python 3 a string has a variety of methods to get modified or changed.\n",
    "\n",
    "Defining a string/ print string/ getting the data type of the string:"
   ]
  },
  {
   "cell_type": "code",
   "execution_count": 3,
   "metadata": {},
   "outputs": [
    {
     "name": "stdout",
     "output_type": "stream",
     "text": [
      "Printing the string a: apple\n",
      "Getting the data type: <class 'str'>\n"
     ]
    }
   ],
   "source": [
    "a = 'apple'\n",
    "\n",
    "print('Printing the string a:', a)\n",
    "\n",
    "print('Getting the data type:', type(a))"
   ]
  },
  {
   "cell_type": "markdown",
   "metadata": {},
   "source": [
    "Putting two strings together:"
   ]
  },
  {
   "cell_type": "code",
   "execution_count": 8,
   "metadata": {},
   "outputs": [
    {
     "name": "stdout",
     "output_type": "stream",
     "text": [
      "Adding two strings: applebananna\n"
     ]
    }
   ],
   "source": [
    "b = 'bananna'\n",
    "\n",
    "c = a+b\n",
    "\n",
    "print('Adding two strings:', c)"
   ]
  },
  {
   "cell_type": "markdown",
   "metadata": {},
   "source": [
    "Access characters of a string:"
   ]
  },
  {
   "cell_type": "code",
   "execution_count": 11,
   "metadata": {},
   "outputs": [
    {
     "name": "stdout",
     "output_type": "stream",
     "text": [
      "The 0 character of the string should be a: a\n"
     ]
    }
   ],
   "source": [
    "g = c[0]\n",
    "\n",
    "print('The 0 character of the string should be a:', g)"
   ]
  },
  {
   "cell_type": "markdown",
   "metadata": {},
   "source": [
    "Multiplication of strings:"
   ]
  },
  {
   "cell_type": "code",
   "execution_count": 13,
   "metadata": {},
   "outputs": [
    {
     "name": "stdout",
     "output_type": "stream",
     "text": [
      "Result of a string multiplication: banannabanannabananna\n"
     ]
    }
   ],
   "source": [
    "f = 3*b\n",
    "\n",
    "\n",
    "print('Result of a string multiplication:', f)"
   ]
  },
  {
   "cell_type": "markdown",
   "metadata": {},
   "source": [
    "Splitting a string after a specific character or string and returning a list."
   ]
  },
  {
   "cell_type": "code",
   "execution_count": 20,
   "metadata": {},
   "outputs": [
    {
     "name": "stdout",
     "output_type": "stream",
     "text": [
      "List with strings after splitin: ['ba', 'a', '', 'aba', 'a', '', 'aba', 'a', '', 'a'] <class 'list'>\n"
     ]
    }
   ],
   "source": [
    "c = f.split('n')\n",
    "\n",
    "print('List with strings after splitin:', c, type(c))"
   ]
  },
  {
   "cell_type": "markdown",
   "metadata": {},
   "source": [
    "A string can also be converted into a float, which could be important after reading files from a text file."
   ]
  },
  {
   "cell_type": "code",
   "execution_count": 25,
   "metadata": {},
   "outputs": [
    {
     "name": "stdout",
     "output_type": "stream",
     "text": [
      "Datatype: <class 'str'>\n",
      "Cast string to float <class 'float'> 123.0\n"
     ]
    }
   ],
   "source": [
    "h = '0000123'\n",
    "\n",
    "j = float(h)\n",
    "\n",
    "print('Datatype:', type(h))\n",
    "print('Cast string to float', type(j), j)"
   ]
  },
  {
   "cell_type": "markdown",
   "metadata": {},
   "source": [
    "For more details about the formatting and using strings you can take a look at the python documentation:\n",
    "\n",
    "https://docs.python.org/3.1/library/string.html"
   ]
  },
  {
   "cell_type": "markdown",
   "metadata": {},
   "source": [
    "<div id='id-section2'/>\n",
    "## Lists:\n",
    "\n",
    "Lists playing a key role in the use of python. A list a posibility to store multiple obejcts in an array.\n",
    "\n",
    "For more information you can take a look at the python documentation:\n",
    "\n",
    "https://docs.python.org/3/tutorial/datastructures.html\n",
    "\n",
    "A remark must be made that python has a special kind of lists named tuples. The difference between tuples and lists is, that values in a tuple can't be changed within the whole programm."
   ]
  },
  {
   "cell_type": "markdown",
   "metadata": {},
   "source": [
    "<div id='id-section3'/>\n",
    "## Dictionary:\n",
    "\n",
    "\n",
    "Dictionary are also an important tool to store data within a programm. The difference. The main difference between dictionaries and lists is the way to access the content. In the case of lists the data can be access by the number of the entry and in the case of dictionaries with the help of a key word.\n"
   ]
  },
  {
   "cell_type": "markdown",
   "metadata": {},
   "source": [
    "* Dictionary:"
   ]
  },
  {
   "cell_type": "code",
   "execution_count": 27,
   "metadata": {},
   "outputs": [
    {
     "data": {
      "text/plain": [
       "8550405"
      ]
     },
     "execution_count": 27,
     "metadata": {},
     "output_type": "execute_result"
    }
   ],
   "source": [
    "city_population = {\"New York City\":8550405, \"Los Angeles\":3971883, \"Toronto\":2731571, \"Chicago\":2720546, \"Houston\":2296224, \"Montreal\":1704694, \"Calgary\":1239220, \"Vancouver\":631486, \"Boston\":667137}\n",
    "city_population[\"New York City\"]"
   ]
  },
  {
   "cell_type": "markdown",
   "metadata": {},
   "source": [
    "* List:"
   ]
  },
  {
   "cell_type": "code",
   "execution_count": 29,
   "metadata": {},
   "outputs": [
    {
     "data": {
      "text/plain": [
       "8550405"
      ]
     },
     "execution_count": 29,
     "metadata": {},
     "output_type": "execute_result"
    }
   ],
   "source": [
    "city_population_List = [8550405, 3971883, 2731571, 2720546, 2296224, 1704694, 1239220]\n",
    "city_population_List[0]"
   ]
  },
  {
   "cell_type": "markdown",
   "metadata": {},
   "source": [
    "This example was inspired by:\n",
    "\n",
    "https://www.python-course.eu/python3_dictionaries.php"
   ]
  }
 ],
 "metadata": {
  "kernelspec": {
   "display_name": "Python 3",
   "language": "python",
   "name": "python3"
  },
  "language_info": {
   "codemirror_mode": {
    "name": "ipython",
    "version": 3
   },
   "file_extension": ".py",
   "mimetype": "text/x-python",
   "name": "python",
   "nbconvert_exporter": "python",
   "pygments_lexer": "ipython3",
   "version": "3.6.1"
  }
 },
 "nbformat": 4,
 "nbformat_minor": 2
}
