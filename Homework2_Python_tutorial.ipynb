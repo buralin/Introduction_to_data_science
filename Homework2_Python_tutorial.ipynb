{
 "cells": [
  {
   "cell_type": "markdown",
   "metadata": {},
   "source": [
    "# Homework 2:\n",
    "\n",
    "## Python tutorial:\n",
    "\n",
    "(The following tutorial covers dictionaries, functions and classes in python. The following syntax is based on python 3.)"
   ]
  },
  {
   "cell_type": "markdown",
   "metadata": {},
   "source": [
    "# Table of content:\n",
    "- [Functions](#id-section2)\n",
    "- [Dictionary](#id-section1)\n",
    "- [Classes](#id-section3)"
   ]
  },
  {
   "cell_type": "markdown",
   "metadata": {},
   "source": [
    "<div id='id-section2'/>\n",
    "## Functions:\n",
    "\n",
    "A function is a block in the code which takes certain input variables and manipulate the those variables. Most of the time they return an argument.\n",
    "\n",
    "The first example is a simple function which is addind two numbers. It takes two numbers and adds them together."
   ]
  },
  {
   "cell_type": "code",
   "execution_count": 2,
   "metadata": {
    "collapsed": true
   },
   "outputs": [],
   "source": [
    "def add(x,y):\n",
    "    return x+y"
   ]
  },
  {
   "cell_type": "code",
   "execution_count": 3,
   "metadata": {},
   "outputs": [
    {
     "data": {
      "text/plain": [
       "7"
      ]
     },
     "execution_count": 3,
     "metadata": {},
     "output_type": "execute_result"
    }
   ],
   "source": [
    "add(3,4)"
   ]
  },
  {
   "cell_type": "markdown",
   "metadata": {},
   "source": [
    "It is not important which data type is passed in the function. The following example is sorting an array of strings."
   ]
  },
  {
   "cell_type": "code",
   "execution_count": 8,
   "metadata": {
    "collapsed": true
   },
   "outputs": [],
   "source": [
    "def sort_list(array): \n",
    "    array.sort()\n",
    "    return array"
   ]
  },
  {
   "cell_type": "code",
   "execution_count": 9,
   "metadata": {},
   "outputs": [
    {
     "name": "stdout",
     "output_type": "stream",
     "text": [
      "the grocery list is :  ['coffee', 'tea', 'milk', 'apples', 'honey', 'bread']\n"
     ]
    }
   ],
   "source": [
    "grocery= ['coffee', 'tea', 'milk', 'apples', 'honey', 'bread']\n",
    "print (\"the grocery list is : \", grocery)"
   ]
  },
  {
   "cell_type": "code",
   "execution_count": 10,
   "metadata": {},
   "outputs": [
    {
     "name": "stdout",
     "output_type": "stream",
     "text": [
      "the alphabetized grocery list is :  ['apples', 'bread', 'coffee', 'honey', 'milk', 'tea']\n"
     ]
    }
   ],
   "source": [
    "sort_list(grocery)\n",
    "print (\"the alphabetized grocery list is : \", grocery)"
   ]
  },
  {
   "cell_type": "markdown",
   "metadata": {},
   "source": [
    "<div id='id-section2'/>\n",
    "## Dictionary:"
   ]
  },
  {
   "cell_type": "markdown",
   "metadata": {},
   "source": [
    "A dictionary is made of a key and a value. In the following example the key is the city for which we are looking at the population."
   ]
  },
  {
   "cell_type": "code",
   "execution_count": 2,
   "metadata": {},
   "outputs": [
    {
     "data": {
      "text/plain": [
       "8550405"
      ]
     },
     "execution_count": 2,
     "metadata": {},
     "output_type": "execute_result"
    }
   ],
   "source": [
    "city_population = {\"New York City\":8550405, \"Los Angeles\":3971883, \"Toronto\":2731571, \"Chicago\":2720546, \"Houston\":2296224, \"Montreal\":1704694, \"Calgary\":1239220, \"Vancouver\":631486, \"Boston\":667137}\n",
    "city_population[\"New York City\"]"
   ]
  },
  {
   "cell_type": "markdown",
   "metadata": {},
   "source": [
    "To illustrate the usage of a function and a dictionary we can write a function which adds a certain entry to a dictionary."
   ]
  },
  {
   "cell_type": "code",
   "execution_count": 11,
   "metadata": {
    "collapsed": true
   },
   "outputs": [],
   "source": [
    "def add_new_residents(dictionary, id_number, name):\n",
    "    dictionary[id_number] = name \n",
    "    return dictionary"
   ]
  },
  {
   "cell_type": "code",
   "execution_count": 14,
   "metadata": {},
   "outputs": [
    {
     "data": {
      "text/plain": [
       "{101: 'frost',\n",
       " 103: 'whitman',\n",
       " 107: 'plath',\n",
       " 109: 'poe',\n",
       " 205: 'tagore',\n",
       " 207: 'shakespeare',\n",
       " 309: 'keats'}"
      ]
     },
     "execution_count": 14,
     "metadata": {},
     "output_type": "execute_result"
    }
   ],
   "source": [
    "apartment_phone_directory = {101: \"frost\", 103 : \"whitman\", 107 : \"plath\", 109 : \"poe\", \n",
    "                             205 : \"tagore\", 207 : \"shakespeare\", 309 : \"keats\"}\n",
    "apartment_phone_directory"
   ]
  },
  {
   "cell_type": "code",
   "execution_count": 13,
   "metadata": {},
   "outputs": [
    {
     "data": {
      "text/plain": [
       "{101: 'frost',\n",
       " 103: 'whitman',\n",
       " 107: 'plath',\n",
       " 109: 'poe',\n",
       " 205: 'tagore',\n",
       " 207: 'shakespeare',\n",
       " 307: 'Werner',\n",
       " 309: 'keats'}"
      ]
     },
     "execution_count": 13,
     "metadata": {},
     "output_type": "execute_result"
    }
   ],
   "source": [
    "add_new_residents(apartment_phone_directory, 307, \"Werner\")"
   ]
  },
  {
   "cell_type": "markdown",
   "metadata": {},
   "source": [
    "<div id='id-section3'/>\n",
    "## Classes:"
   ]
  },
  {
   "cell_type": "markdown",
   "metadata": {},
   "source": [
    "Classes are one of the most fundamental and useful part of programming. Class can be defined as a blueprint to create objects. Think of it like a instruction manual for achieving a purpose. Anything can be written or defined in a class (data types, functions, variables). The use of an instance of a class creates an object. Or in other words, we use an intruction manual to accomplish a task (task here being an object). This is commonly referred to as object oriented programming."
   ]
  },
  {
   "cell_type": "code",
   "execution_count": 15,
   "metadata": {
    "collapsed": true
   },
   "outputs": [],
   "source": [
    "class Walmart_CardMember:\n",
    "    def __init__(self, name, age):    \n",
    "        self.name = name\n",
    "        self.age = age"
   ]
  },
  {
   "cell_type": "markdown",
   "metadata": {},
   "source": [
    "In the current example I'm shwoing how to create an object in this case a Walmart card member and add the member to an dictionary."
   ]
  },
  {
   "cell_type": "code",
   "execution_count": 27,
   "metadata": {
    "collapsed": true
   },
   "outputs": [],
   "source": [
    "member1 = Walmart_CardMember('Peter', '27')\n",
    "member2 = Walmart_CardMember('August', '30')"
   ]
  },
  {
   "cell_type": "code",
   "execution_count": 28,
   "metadata": {},
   "outputs": [
    {
     "data": {
      "text/plain": [
       "('Peter', '27')"
      ]
     },
     "execution_count": 28,
     "metadata": {},
     "output_type": "execute_result"
    }
   ],
   "source": [
    "#access the data\n",
    "member1.name, member1.age"
   ]
  },
  {
   "cell_type": "code",
   "execution_count": 29,
   "metadata": {},
   "outputs": [],
   "source": [
    "member_dict = {1: member1}\n",
    "member_dict[2] = member2"
   ]
  },
  {
   "cell_type": "code",
   "execution_count": 32,
   "metadata": {},
   "outputs": [
    {
     "data": {
      "text/plain": [
       "{1: <__main__.Walmart_CardMember at 0x7f36b3f924e0>,\n",
       " 2: <__main__.Walmart_CardMember at 0x7f36b3f92470>}"
      ]
     },
     "execution_count": 32,
     "metadata": {},
     "output_type": "execute_result"
    }
   ],
   "source": [
    "member_dict"
   ]
  }
 ],
 "metadata": {
  "kernelspec": {
   "display_name": "Python 3",
   "language": "python",
   "name": "python3"
  },
  "language_info": {
   "codemirror_mode": {
    "name": "ipython",
    "version": 3
   },
   "file_extension": ".py",
   "mimetype": "text/x-python",
   "name": "python",
   "nbconvert_exporter": "python",
   "pygments_lexer": "ipython3",
   "version": "3.6.3"
  }
 },
 "nbformat": 4,
 "nbformat_minor": 2
}
