{
 "cells": [
  {
   "cell_type": "markdown",
   "metadata": {},
   "source": [
    "## Introduction to data science : Final Project\n",
    "\n",
    "\n",
    "### Propose a question for your project .\n",
    "\n",
    "Can the noninteracting Kinetic Energy electron density functional be approximated by data science techniques based on machine learning?\n",
    " \n",
    "\n",
    "### Explain why it is an interesting question\n",
    "\n",
    "By achieving this we would be able to significantly reduce the computational complexity for computing the noninteracting kinetic energy functional - a fundamental ingredient of computational materials science.\n",
    "\n",
    "This will have an immense impact in the field of chemistry and material science because it would open the door to modeling materials of realistic dimensions and complexity which are currently not approachable by the state-of-the-art methods (such as Kohn Sham Density Functional Theory).\n",
    "\n",
    " \n",
    "### What data will you use to answer it?\n",
    "\n",
    "We generate our own data set of exact noninteracting Kinetic Energy and its derivative (kinetic energy potential) based on randomly generated crystal structures of selected meterials. This will be split into training and test sets.\n",
    "\n",
    " \n",
    "\n",
    "### How will you operationalize the question?\n",
    "\n",
    "1) Generate train and test set carrying out Kohn Sham Density Functional Theory simulations of millions of randomly generatedcrystal structures of solid Aluminum and Silicon.\n",
    "\n",
    "2) Formulate a form for the noninteracting Kinetic Energy functional that is amenable to the application of machine learning techniques.\n",
    "\n",
    "3) apply (2) to a training set\n",
    "\n",
    "4) carry out the “learning process” using several ML techniques (regressions) independently\n",
    "\n",
    "5) Test the resulting models on the “test set”\n",
    "\n",
    "6) investigate the sensitivity of the models to choices made in step (2)\n",
    "\n",
    "### How will you confirm the results?\n",
    "\n",
    "We compare it to the exact Kohn Sham results as described in step (5) above.\n",
    "\n",
    " \n",
    "### What are assumptions and limitations?\n",
    "\n",
    "The transferability of the kinetic energy functional is dictated by the generality of the training dataset.\n",
    "\n",
    "We assume that the ML models are capable of predicting the noninteracting Kinetic Energy functional when compared to the exact result. That is, we are confident to be able to satisfactorily approximate the functional for of the noninteracting Kinetic Energy functional needed by step (2) above.\n",
    "\n",
    " \n",
    "\n",
    "### What is the statement that you will be able to make after the analysis?\n",
    "\n",
    "If successful, we will be able to carry out Kohn Sham Density Functional Theory simulations without the use of orbitals through machine learning with an algorithm that computationally scales orders of magnitude more favourably than Kohn Sham Density Functional Theory.\n",
    "\n",
    "### Who is in your group?\n",
    "\n",
    "Alina, Rupali, Johannes"
   ]
  }
 ],
 "metadata": {
  "kernelspec": {
   "display_name": "Python 3",
   "language": "python",
   "name": "python3"
  },
  "language_info": {
   "codemirror_mode": {
    "name": "ipython",
    "version": 3
   },
   "file_extension": ".py",
   "mimetype": "text/x-python",
   "name": "python",
   "nbconvert_exporter": "python",
   "pygments_lexer": "ipython3",
   "version": "3.6.3"
  }
 },
 "nbformat": 4,
 "nbformat_minor": 2
}
